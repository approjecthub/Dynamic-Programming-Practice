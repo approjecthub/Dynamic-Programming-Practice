{
  "nbformat": 4,
  "nbformat_minor": 0,
  "metadata": {
    "colab": {
      "name": "dp practice.ipynb",
      "provenance": [],
      "collapsed_sections": [],
      "authorship_tag": "ABX9TyM/h6nsht5JTnZqa9In2m0R",
      "include_colab_link": true
    },
    "kernelspec": {
      "name": "python3",
      "display_name": "Python 3"
    },
    "language_info": {
      "name": "python"
    }
  },
  "cells": [
    {
      "cell_type": "markdown",
      "metadata": {
        "id": "view-in-github",
        "colab_type": "text"
      },
      "source": [
        "<a href=\"https://colab.research.google.com/github/approjecthub/Dynamic-Programming-Practice/blob/main/dp_practice.ipynb\" target=\"_parent\"><img src=\"https://colab.research.google.com/assets/colab-badge.svg\" alt=\"Open In Colab\"/></a>"
      ]
    },
    {
      "cell_type": "markdown",
      "metadata": {
        "id": "z-WiQnwydHxr"
      },
      "source": [
        "### 0-1 knapsack\n"
      ]
    },
    {
      "cell_type": "code",
      "metadata": {
        "id": "kc8UebqudCop"
      },
      "source": [
        "val = [60, 100, 120]\n",
        "wt = [10, 20, 30]\n",
        "\n",
        "w = 50\n",
        "##output is maximum profit\n"
      ],
      "execution_count": null,
      "outputs": []
    },
    {
      "cell_type": "code",
      "metadata": {
        "colab": {
          "base_uri": "https://localhost:8080/"
        },
        "id": "ECqxmwDadne_",
        "outputId": "7d2cf542-2bbd-4e0e-c9a1-c696b17530b5"
      },
      "source": [
        "###recursive\n",
        "def fun(w,n):\n",
        "  if n<=0:\n",
        "    return 0\n",
        "  if wt[n-1]<=w:\n",
        "    return max(fun(w-wt[n-1], n-1)+val[n-1] , fun(w, n-1))\n",
        "\n",
        "  else:\n",
        "    return fun(w, n-1)\n",
        "n = len(wt)\n",
        "print(fun(w,n))"
      ],
      "execution_count": null,
      "outputs": [
        {
          "output_type": "stream",
          "text": [
            "220\n"
          ],
          "name": "stdout"
        }
      ]
    },
    {
      "cell_type": "code",
      "metadata": {
        "colab": {
          "base_uri": "https://localhost:8080/"
        },
        "id": "3OxuYlW1ey3z",
        "outputId": "79563b95-f121-4895-902c-64d83ed9c015"
      },
      "source": [
        "###top down\n",
        "def fun(w,n):\n",
        "  if dp[n][w]!=-1:\n",
        "    return dp[n][w]\n",
        "  if n<=0:\n",
        "    return 0\n",
        "  if wt[n-1]<=w:\n",
        "    dp[n][w]= max(fun(w-wt[n-1], n-1)+val[n-1] , fun(w, n-1))\n",
        "\n",
        "  else:\n",
        "    dp[n][w]= fun(w, n-1)\n",
        "  return dp[n][w]\n",
        "\n",
        "\n",
        "n = len(wt)\n",
        "dp = []\n",
        "for _ in range(n+1):\n",
        "  dp.append([-1]*(w+1))\n",
        "print(fun(w,n))"
      ],
      "execution_count": null,
      "outputs": [
        {
          "output_type": "stream",
          "text": [
            "220\n"
          ],
          "name": "stdout"
        }
      ]
    },
    {
      "cell_type": "markdown",
      "metadata": {
        "id": "jD1K6S41i1Mw"
      },
      "source": [
        "### Subset sum problem"
      ]
    },
    {
      "cell_type": "code",
      "metadata": {
        "id": "mKPYBXCtgOdX"
      },
      "source": [
        "arr = [2,3,7,8,10]\n",
        "suma = 11\n",
        "\n",
        "n = len(arr)"
      ],
      "execution_count": null,
      "outputs": []
    },
    {
      "cell_type": "code",
      "metadata": {
        "colab": {
          "base_uri": "https://localhost:8080/"
        },
        "id": "MEoExHCzjX_w",
        "outputId": "9d8f863f-68e1-4fbf-cf96-5fef456edf25"
      },
      "source": [
        "def fun(n,suma):\n",
        "  if suma==0:\n",
        "    return True\n",
        "  if n<=0:\n",
        "    return False\n",
        "\n",
        "  elif arr[n-1]<= suma:\n",
        "    return fun(n-1, suma-arr[n-1]) or fun(n-1, suma)\n",
        "\n",
        "  else:\n",
        "    return fun(n-1, suma)\n",
        "\n",
        "print(fun(n,suma))"
      ],
      "execution_count": null,
      "outputs": [
        {
          "output_type": "stream",
          "text": [
            "True\n"
          ],
          "name": "stdout"
        }
      ]
    },
    {
      "cell_type": "markdown",
      "metadata": {
        "id": "Mzmw7RyRlIfs"
      },
      "source": [
        "### coun subset of a given sum"
      ]
    },
    {
      "cell_type": "code",
      "metadata": {
        "colab": {
          "base_uri": "https://localhost:8080/"
        },
        "id": "R4rFWnJzkaCO",
        "outputId": "ba2a338f-4f20-47f9-8abe-2b9c8beed548"
      },
      "source": [
        "arr = [2,3,5,6,8,10]\n",
        "suma = 10\n",
        "\n",
        "n = len(arr)\n",
        "\n",
        "def fun(n,suma):\n",
        "  if suma==0:\n",
        "    return 1\n",
        "  if n<=0:\n",
        "    return 0\n",
        "\n",
        "  elif arr[n-1]<= suma:\n",
        "    return fun(n-1, suma-arr[n-1])+ fun(n-1, suma)\n",
        "\n",
        "  else:\n",
        "    return fun(n-1, suma)\n",
        "\n",
        "print(fun(n,suma))"
      ],
      "execution_count": null,
      "outputs": [
        {
          "output_type": "stream",
          "text": [
            "3\n"
          ],
          "name": "stdout"
        }
      ]
    },
    {
      "cell_type": "markdown",
      "metadata": {
        "id": "Elza1XFFlsRt"
      },
      "source": [
        "### minimum subset sum difference"
      ]
    },
    {
      "cell_type": "code",
      "metadata": {
        "id": "NfVTSHHqlh5S"
      },
      "source": [
        "##|ss1 - ss2| should be minimum\n",
        "\n",
        "arr = [1,6,11,5]\n",
        "\n",
        "n = len(arr)\n",
        "sumar = sum(arr)"
      ],
      "execution_count": null,
      "outputs": []
    },
    {
      "cell_type": "code",
      "metadata": {
        "colab": {
          "base_uri": "https://localhost:8080/"
        },
        "id": "VeeTkTr5F9yT",
        "outputId": "a4c6bf44-7c61-427b-8caf-21c5c6dddc66"
      },
      "source": [
        "def fun(n,ss):\n",
        "  if n<=0:\n",
        "    return abs(sumar - (2*ss))\n",
        "\n",
        "  else:\n",
        "    return min(fun(n-1, ss + arr[n-1]), fun(n-1, ss))\n",
        "\n",
        "print(fun(n,0))"
      ],
      "execution_count": null,
      "outputs": [
        {
          "output_type": "stream",
          "text": [
            "1\n"
          ],
          "name": "stdout"
        }
      ]
    },
    {
      "cell_type": "markdown",
      "metadata": {
        "id": "2bwulkvyIvSo"
      },
      "source": [
        "### Count the no. of subsets with a given difference"
      ]
    },
    {
      "cell_type": "code",
      "metadata": {
        "id": "6J8I2CVuG9ht"
      },
      "source": [
        "arr = [1,1,2,3]\n",
        "reqDiff = 1\n",
        "sumar = sum(arr)"
      ],
      "execution_count": null,
      "outputs": []
    },
    {
      "cell_type": "code",
      "metadata": {
        "colab": {
          "base_uri": "https://localhost:8080/"
        },
        "id": "wq9vBUsSMFAB",
        "outputId": "6fa976b9-1a11-4544-b627-e0209d01011b"
      },
      "source": [
        "def fun(n,ss):\n",
        "  # print(ss)\n",
        "  if abs(sumar - (2*ss))== reqDiff:\n",
        "    return 1\n",
        "  elif n<=0 and abs(sumar - (2*ss))!= reqDiff:\n",
        "    return 0\n",
        "  else:\n",
        "    return fun(n-1, ss + arr[n-1])+ fun(n-1, ss)\n",
        "\n",
        "print(fun(n,0))"
      ],
      "execution_count": null,
      "outputs": [
        {
          "output_type": "stream",
          "text": [
            "3\n"
          ],
          "name": "stdout"
        }
      ]
    },
    {
      "cell_type": "markdown",
      "metadata": {
        "id": "68hH5wPdmpZI"
      },
      "source": [
        "### Rod cutting problem"
      ]
    },
    {
      "cell_type": "code",
      "metadata": {
        "id": "wA5-3kSEMdnf"
      },
      "source": [
        "price = [1, 5, 8, 9, 10, 17, 17, 20]##price for each cut(i=1...n)\n",
        "\n",
        "n = len(price)##length of the rod\n"
      ],
      "execution_count": null,
      "outputs": []
    },
    {
      "cell_type": "code",
      "metadata": {
        "colab": {
          "base_uri": "https://localhost:8080/"
        },
        "id": "OTeTOWGboTzB",
        "outputId": "3830dc06-d517-4bfa-fd9b-8a37167064dd"
      },
      "source": [
        "def fun(n1,n2):\n",
        "  if n1<=0 or n2<=0:\n",
        "    return 0;\n",
        "\n",
        "  else:\n",
        "    if n2<=n1:\n",
        "      return max(price[n2-1]+fun(n1-n2, n2), fun(n1, n2-1))\n",
        "    else:\n",
        "      return fun(n1, n2-1)\n",
        "\n",
        "print(fun(n,n))"
      ],
      "execution_count": null,
      "outputs": [
        {
          "output_type": "stream",
          "text": [
            "22\n"
          ],
          "name": "stdout"
        }
      ]
    },
    {
      "cell_type": "markdown",
      "metadata": {
        "id": "NbnT11_Wrale"
      },
      "source": [
        "### coin change 1"
      ]
    },
    {
      "cell_type": "code",
      "metadata": {
        "id": "J9obml8ZpMi2"
      },
      "source": [
        "coin = [2, 5, 3, 6]\n",
        "denom = 10\n",
        "n = len(coin)\n",
        "##count no of ways to create the required denomination, one coin can be used multiple times,; here the answer is: 5"
      ],
      "execution_count": null,
      "outputs": []
    },
    {
      "cell_type": "code",
      "metadata": {
        "colab": {
          "base_uri": "https://localhost:8080/"
        },
        "id": "g_bjm_uzsNfW",
        "outputId": "fc831662-0c0b-40f3-d3e4-8ce3115c8758"
      },
      "source": [
        "def fun(denom, n):\n",
        "  if denom==0:\n",
        "    return 1 \n",
        "  if n<=0:\n",
        "    return 0\n",
        "  if coin[n-1]<=denom:\n",
        "    return fun(denom - coin[n-1], n) + fun(denom, n-1)\n",
        "  else:\n",
        "    return fun(denom, n-1)\n",
        "\n",
        "\n",
        "print(fun(denom, n))"
      ],
      "execution_count": null,
      "outputs": [
        {
          "output_type": "stream",
          "text": [
            "5\n"
          ],
          "name": "stdout"
        }
      ]
    },
    {
      "cell_type": "markdown",
      "metadata": {
        "id": "H0kpznlD8kth"
      },
      "source": [
        "### Coin change 2\n",
        "https://www.geeksforgeeks.org/find-minimum-number-of-coins-that-make-a-change/"
      ]
    },
    {
      "cell_type": "code",
      "metadata": {
        "id": "eLbTwoNx0BnK"
      },
      "source": [
        "coin = [9, 6, 5, 1]\n",
        "denom = 11\n",
        "### find minimum no of coins to create the denomination\n",
        "##op : 2 i.e(6,5)"
      ],
      "execution_count": null,
      "outputs": []
    },
    {
      "cell_type": "code",
      "metadata": {
        "colab": {
          "base_uri": "https://localhost:8080/"
        },
        "id": "VDcaPoeC28-T",
        "outputId": "9421df49-ca1f-410f-d852-4aa58eeaf51a"
      },
      "source": [
        "n = len(coin)\n",
        "\n",
        "def fun(n,denom, cn):\n",
        "  if denom==0:\n",
        "    return cn \n",
        "\n",
        "  if n<=0:\n",
        "    return float('inf')\n",
        "\n",
        "  if coin[n-1]<=denom:\n",
        "    return min(fun(n-1, denom-coin[n-1], cn+1), fun(n-1, denom, cn))\n",
        "\n",
        "  else:\n",
        "    return fun(n-1, denom, cn)\n",
        "\n",
        "\n",
        "print(fun(n,denom, 0))"
      ],
      "execution_count": null,
      "outputs": [
        {
          "output_type": "stream",
          "text": [
            "2\n"
          ],
          "name": "stdout"
        }
      ]
    },
    {
      "cell_type": "code",
      "metadata": {
        "colab": {
          "base_uri": "https://localhost:8080/"
        },
        "id": "bm1vA_u-CKT5",
        "outputId": "fe7afceb-8670-4f03-f2eb-45b71b8fb580"
      },
      "source": [
        "def fun(n,denom, cn):\n",
        "  if dp[n][denom]!= -1:\n",
        "    return dp[n][denom]\n",
        "  if denom==0:\n",
        "    dp[n][denom]= cn \n",
        "    return dp[n][denom]\n",
        "  if n<=0:\n",
        "    dp[n][denom]= float('inf')\n",
        "    return dp[n][denom]\n",
        "\n",
        "  if coin[n-1]<=denom:\n",
        "    dp[n][denom]= min(fun(n-1, denom-coin[n-1], cn+1), fun(n-1, denom, cn))\n",
        "\n",
        "  else:\n",
        "    dp[n][denom]= fun(n-1, denom, cn)\n",
        "\n",
        "  return dp[n][denom]\n",
        "\n",
        "dp = []\n",
        "for _ in range(n+1):\n",
        "  dp.append([-1]*(denom+1))\n",
        "print(fun(n,denom, 0))"
      ],
      "execution_count": null,
      "outputs": [
        {
          "output_type": "stream",
          "text": [
            "2\n"
          ],
          "name": "stdout"
        }
      ]
    },
    {
      "cell_type": "markdown",
      "metadata": {
        "id": "nlkjyMy89WYK"
      },
      "source": [
        "### Longest Common Substring"
      ]
    },
    {
      "cell_type": "code",
      "metadata": {
        "id": "LDOm44tRDJRJ"
      },
      "source": [
        "x = 'abcde\"'\n",
        "y = 'abfce'\n",
        "\n",
        "m = len(x)\n",
        "n = len(y)\n"
      ],
      "execution_count": null,
      "outputs": []
    },
    {
      "cell_type": "code",
      "metadata": {
        "colab": {
          "base_uri": "https://localhost:8080/"
        },
        "id": "mqav0PxtBXPv",
        "outputId": "cc031aef-7b6d-4b10-fdd8-6561d4809dce"
      },
      "source": [
        "ans = 0\n",
        "def fun(m,n, c):\n",
        "  global ans\n",
        "  if m==0 or n==0:\n",
        "    return \n",
        "\n",
        "  elif x[m-1]==y[n-1]:\n",
        "    ans = max(ans, c+1)\n",
        "    fun(m-1, n-1, c+1)\n",
        "\n",
        "  else:\n",
        "    fun(m, n-1, 0)\n",
        "    fun(m-1, n, 0)\n",
        "\n",
        "fun(m,n, 0)\n",
        "print(ans)"
      ],
      "execution_count": null,
      "outputs": [
        {
          "output_type": "stream",
          "text": [
            "2\n"
          ],
          "name": "stdout"
        }
      ]
    },
    {
      "cell_type": "markdown",
      "metadata": {
        "id": "j7WjktPPrJ3I"
      },
      "source": [
        "### Longest repeating subsequence"
      ]
    },
    {
      "cell_type": "code",
      "metadata": {
        "id": "G_fSGwuZDX8p"
      },
      "source": [
        "s1 = 'aabebcdd'\n",
        "\n",
        "n = len(s1)"
      ],
      "execution_count": null,
      "outputs": []
    },
    {
      "cell_type": "code",
      "metadata": {
        "colab": {
          "base_uri": "https://localhost:8080/"
        },
        "id": "NdpzAmNXsOx8",
        "outputId": "01b6de70-18a8-45b8-f56f-0b3bd8197acd"
      },
      "source": [
        "s2 = s1 \n",
        "\n",
        "def fun(n1,n2):\n",
        "  if n1==0 or n2==0:\n",
        "    return 0\n",
        "\n",
        "  elif s1[n1-1]==s2[n2-1] and n1!=n2:\n",
        "    return 1+fun(n1-1, n2-1)\n",
        "\n",
        "  else:\n",
        "    return max(fun(n1-1, n2), fun(n1, n2-1))\n",
        "\n",
        "print(fun(n,n))"
      ],
      "execution_count": null,
      "outputs": [
        {
          "output_type": "stream",
          "text": [
            "3\n"
          ],
          "name": "stdout"
        }
      ]
    },
    {
      "cell_type": "markdown",
      "metadata": {
        "id": "YWiBE8Ojr2Zi"
      },
      "source": [
        "### Matrix chain multiplication"
      ]
    },
    {
      "cell_type": "code",
      "metadata": {
        "id": "H2yqivWmuONU"
      },
      "source": [
        "p = [40, 20, 30, 10, 30]\n",
        "\n",
        "n = len(p)"
      ],
      "execution_count": null,
      "outputs": []
    },
    {
      "cell_type": "code",
      "metadata": {
        "id": "X5CEz9Z8s7ER",
        "colab": {
          "base_uri": "https://localhost:8080/"
        },
        "outputId": "84175f80-488e-4003-e4b5-37f0a4cb2da8"
      },
      "source": [
        "def mcm(i,j):\n",
        "\n",
        "  if i>=j:\n",
        "    return 0\n",
        "  \n",
        "  ans = float('inf')\n",
        "  k = i\n",
        "  while k<j:\n",
        "    \n",
        "    temp = mcm(i,k)+mcm(k+1, j)+p[i-1]*p[j]*p[k]\n",
        "    \n",
        "\n",
        "    ans = min(ans, temp)\n",
        "    k+=1\n",
        " \n",
        "  return ans\n",
        "\n",
        "print(mcm(1,n-1))"
      ],
      "execution_count": null,
      "outputs": [
        {
          "output_type": "stream",
          "text": [
            "26000\n"
          ],
          "name": "stdout"
        }
      ]
    },
    {
      "cell_type": "markdown",
      "metadata": {
        "id": "i-oBVtd0-QcS"
      },
      "source": [
        "### Palindrom partitioning\n",
        "https://www.geeksforgeeks.org/palindrome-partitioning-dp-17/"
      ]
    },
    {
      "cell_type": "code",
      "metadata": {
        "id": "-33thIgBxYSc"
      },
      "source": [
        "s1 = 'abbac'\n"
      ],
      "execution_count": null,
      "outputs": []
    },
    {
      "cell_type": "code",
      "metadata": {
        "id": "nCjFzPuUIbfu"
      },
      "source": [
        "def isPalindrome(s1):\n",
        "  if len(s1)==1:\n",
        "    return True\n",
        "  i = 0\n",
        "  j = len(s1)-1\n",
        "  while i<j:\n",
        "    if s1[i]==s1[j]:\n",
        "      i += 1\n",
        "      j -= 1\n",
        "\n",
        "    else:\n",
        "      return False\n",
        "\n",
        "  return True\n",
        "\n",
        "# print(isPalindrome(s1[:4]))"
      ],
      "execution_count": null,
      "outputs": []
    },
    {
      "cell_type": "code",
      "metadata": {
        "colab": {
          "base_uri": "https://localhost:8080/"
        },
        "id": "C7qoxfIWJFkp",
        "outputId": "f3fadb42-c74c-42dc-b73f-d437c8606a7f"
      },
      "source": [
        "def pp(i,j):\n",
        "  if i>=j or isPalindrome(s1[i:j+1]):\n",
        "    return 0\n",
        "\n",
        "  ans = float('inf')\n",
        "\n",
        "  for k in range(i,j):\n",
        "    temp = pp(i,k) + pp(k+1,j) + 1\n",
        "\n",
        "    ans = min(ans, temp)\n",
        "\n",
        "  return ans\n",
        "\n",
        "print(pp(0, len(s1)))"
      ],
      "execution_count": null,
      "outputs": [
        {
          "output_type": "stream",
          "text": [
            "1\n"
          ],
          "name": "stdout"
        }
      ]
    },
    {
      "cell_type": "markdown",
      "metadata": {
        "id": "41WKZDCUlzv3"
      },
      "source": [
        "https://leetcode.com/problems/palindrome-partitioning/"
      ]
    },
    {
      "cell_type": "code",
      "metadata": {
        "colab": {
          "base_uri": "https://localhost:8080/"
        },
        "id": "FaIz2151l3oe",
        "outputId": "72afe3bb-860f-4fbd-dcd1-d92222684a7d"
      },
      "source": [
        "# Given a string s, partition s such that every substring of the partition is a palindrome. Return all possible palindrome partitioning of s.\n",
        "\n",
        "# Input: s = \"aab\"\n",
        "# Output: [[\"a\",\"a\",\"b\"],[\"aa\",\"b\"]]\n",
        "\n",
        "s1 = 'aab'\n",
        "ans = []\n",
        "def pp(i,j):\n",
        "  \n",
        "  if i==j :\n",
        "    \n",
        "    return [[s1[i]]]\n",
        "  if s1[i:j+1]==s1[i:j+1][::-1]:\n",
        "\n",
        "    return [[s1[i:j+1]]]\n",
        "  tr = set()\n",
        "  for k in range(i,j):\n",
        "    temp = []\n",
        "    \n",
        "    if i<=k:\n",
        "      res1 = pp(i,k)\n",
        "      \n",
        "    if k+1<=j:\n",
        "      res2 = pp(k+1,j)\n",
        "\n",
        "    for li1 in res1:\n",
        "  \n",
        "      for li2 in res2:\n",
        "        \n",
        "        temp.append(li1 + li2)\n",
        "\n",
        "    for li in temp:\n",
        "      tr.add(' '.join(li))\n",
        "    \n",
        "  tr1 = []\n",
        "  for li in tr:\n",
        "    tr1.append(li.split(' '))\n",
        "  return tr1\n",
        "\n",
        "res = pp(0, len(s1)-1)\n",
        "print(res)  #### only few test cases passed, palindrome substring test cases are not properly handled"
      ],
      "execution_count": null,
      "outputs": [
        {
          "output_type": "stream",
          "text": [
            "[['aa', 'b'], ['a', 'a', 'b']]\n"
          ],
          "name": "stdout"
        }
      ]
    },
    {
      "cell_type": "markdown",
      "metadata": {
        "id": "5zHp8kyJi3nA"
      },
      "source": [
        "### Boolean Parenthesization Problem\n",
        "https://www.geeksforgeeks.org/boolean-parenthesization-problem-dp-37/"
      ]
    },
    {
      "cell_type": "markdown",
      "metadata": {
        "id": "hQb-lY90hM9R"
      },
      "source": [
        "### Longest Increasing Subsequence\n",
        "https://www.geeksforgeeks.org/longest-increasing-subsequence-dp-3/"
      ]
    },
    {
      "cell_type": "code",
      "metadata": {
        "id": "vzmQNTJabLYM"
      },
      "source": [
        "arr = [50, 3, 10, 7, 40, 80]\n",
        "\n",
        "n = len(arr)"
      ],
      "execution_count": null,
      "outputs": []
    },
    {
      "cell_type": "code",
      "metadata": {
        "colab": {
          "base_uri": "https://localhost:8080/"
        },
        "id": "kBQk-5wihdzE",
        "outputId": "4f38371b-7ae1-4d93-d422-80e4b89e512f"
      },
      "source": [
        "def LIS(n, max_num, sizeLis):\n",
        "  if n<=0:\n",
        "    return sizeLis\n",
        "  if arr[n-1]<max_num:\n",
        "    return max( LIS(n-1, arr[n-1], sizeLis + 1), LIS(n-1, max_num, sizeLis ))\n",
        "  return LIS(n-1, max_num, sizeLis )\n",
        "\n",
        "print(LIS(n, float('inf'), 0))"
      ],
      "execution_count": null,
      "outputs": [
        {
          "output_type": "stream",
          "text": [
            "4\n"
          ],
          "name": "stdout"
        }
      ]
    },
    {
      "cell_type": "code",
      "metadata": {
        "colab": {
          "base_uri": "https://localhost:8080/"
        },
        "id": "_H_yivAnit_r",
        "outputId": "f506fdb1-6a89-4a62-fc89-0faa26e8473b"
      },
      "source": [
        "l = [1 for _ in range(n)] ###gfg logic\n",
        "\n",
        "ans =-float('inf')\n",
        "for i in range(n):\n",
        "  \n",
        "  for j in range(i):\n",
        "    if arr[j]<arr[i] and l[j]+1>l[i]:\n",
        "      l[i] = l[j] + 1\n",
        "    ans = max(ans, l[i])\n",
        "\n",
        "print(ans)\n",
        "  "
      ],
      "execution_count": null,
      "outputs": [
        {
          "output_type": "stream",
          "text": [
            "4\n"
          ],
          "name": "stdout"
        }
      ]
    },
    {
      "cell_type": "code",
      "metadata": {
        "id": "cFKi7LPKqREm"
      },
      "source": [
        ""
      ],
      "execution_count": null,
      "outputs": []
    }
  ]
}